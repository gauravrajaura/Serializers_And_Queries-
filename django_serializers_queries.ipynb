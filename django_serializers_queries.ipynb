{
 "cells": [
  {
   "cell_type": "code",
   "execution_count": 1,
   "id": "8e7a36dc",
   "metadata": {},
   "outputs": [],
   "source": [
    "import os\n",
    "import django\n",
    "import json \n",
    "#os.environ.setdefault('DJANGO_SETTINGS_MODULE', 'rest.settings')\n",
    "os.environ[\"DJANGO_ALLOW_ASYNC_UNSAFE\"] = \"true\"\n",
    "django.setup()\n",
    "from pprint import pprint\n",
    "\n"
   ]
  },
  {
   "cell_type": "code",
   "execution_count": 2,
   "id": "d81b89ab",
   "metadata": {},
   "outputs": [],
   "source": [
    "from edly.core.models import *"
   ]
  },
  {
   "cell_type": "code",
   "execution_count": 7,
   "id": "3bcc9fb5",
   "metadata": {},
   "outputs": [],
   "source": [
    "state_obj=State.objects.all()"
   ]
  },
  {
   "cell_type": "code",
   "execution_count": 8,
   "id": "30b60622",
   "metadata": {},
   "outputs": [
    {
     "data": {
      "text/plain": [
       "<QuerySet [<State: New York>, <State: Puerto Rico>, <State: Virgin Islands>, <State: Massachusetts>, <State: Rhode Island>, <State: New Hampshire>, <State: Maine>, <State: Connecticut>, <State: New Jersey>, <State: Pennsylvania>, <State: Delaware>, <State: District of Columbia>, <State: Virginia>, <State: Maryland>, <State: North Carolina>, <State: South Carolina>, <State: Georgia>, <State: Florida>, <State: Alabama>, <State: Tennessee>, '...(remaining elements truncated)...']>"
      ]
     },
     "execution_count": 8,
     "metadata": {},
     "output_type": "execute_result"
    }
   ],
   "source": [
    "state_obj"
   ]
  },
  {
   "cell_type": "markdown",
   "id": "22c13abd",
   "metadata": {},
   "source": [
    "# Serialization"
   ]
  },
  {
   "cell_type": "raw",
   "id": "fd4be47a",
   "metadata": {},
   "source": [
    "                    [ Model_Instance ]   ==> Serialized_data    ==> Json_data \n",
    "                    \n",
    "                      (Complex data)         (Python data)          (Json for Frontend)"
   ]
  },
  {
   "cell_type": "code",
   "execution_count": 31,
   "id": "b3268675",
   "metadata": {},
   "outputs": [],
   "source": [
    "from rest_framework import serializers\n",
    "from rest_framework.renderers import JSONRenderer"
   ]
  },
  {
   "cell_type": "code",
   "execution_count": 32,
   "id": "e5aa96c8",
   "metadata": {},
   "outputs": [],
   "source": [
    "class StateSerializer(serializers.ModelSerializer):\n",
    "    class Meta:\n",
    "        model = State\n",
    "        fields = ['id','name','country','alpha_2_iso_code']"
   ]
  },
  {
   "cell_type": "code",
   "execution_count": 33,
   "id": "8cf4d6e3",
   "metadata": {},
   "outputs": [],
   "source": [
    "serializer=StateSerializer(state_obj,many=True)"
   ]
  },
  {
   "cell_type": "code",
   "execution_count": 34,
   "id": "f2939893",
   "metadata": {},
   "outputs": [],
   "source": [
    "serialized_data=serializer.data[0]"
   ]
  },
  {
   "cell_type": "code",
   "execution_count": 35,
   "id": "d8c976b4",
   "metadata": {},
   "outputs": [],
   "source": [
    "json_data= JSONRenderer().render(serialized_data)\n"
   ]
  },
  {
   "cell_type": "code",
   "execution_count": 36,
   "id": "01d9e4c7",
   "metadata": {},
   "outputs": [
    {
     "data": {
      "text/plain": [
       "b'{\"id\":473,\"name\":\"New York\",\"country\":3,\"alpha_2_iso_code\":\"NY\"}'"
      ]
     },
     "execution_count": 36,
     "metadata": {},
     "output_type": "execute_result"
    }
   ],
   "source": [
    "json_data"
   ]
  },
  {
   "cell_type": "markdown",
   "id": "2c283684",
   "metadata": {},
   "source": [
    "# De-Serialization"
   ]
  },
  {
   "cell_type": "raw",
   "id": "5bc23a12",
   "metadata": {},
   "source": [
    "                    Model_Instance   <==  Serialized_data    <==  [ Json_data ]\n",
    "                    \n",
    "                    (Complex data)         (Python data)          (Json form Frontend)"
   ]
  },
  {
   "cell_type": "code",
   "execution_count": 77,
   "id": "918ec211",
   "metadata": {},
   "outputs": [],
   "source": [
    "import io\n",
    "from rest_framework.parsers import JSONParser\n",
    "\n",
    "stream = io.BytesIO(json_data)\n",
    "data = JSONParser().parse(stream)"
   ]
  },
  {
   "cell_type": "code",
   "execution_count": 80,
   "id": "458529bc",
   "metadata": {},
   "outputs": [],
   "source": [
    "class StateSerializer2(serializers.ModelSerializer):\n",
    "    class Meta:\n",
    "        model = State\n",
    "        fields = ['id','name','country','alpha_2_iso_code']\n",
    "    \n",
    "    def create(self, validated_data):\n",
    "        \"\"\"\n",
    "        Create and return a new `Snippet` instance, given the validated data.\n",
    "        \"\"\"\n",
    "        return State.objects.create(**validated_data)\n",
    "     \n",
    "    \n",
    "    def update(self, instance, validated_data):\n",
    "        \"\"\"\n",
    "        Update and return an existing `Snippet` instance, given the validated data.\n",
    "        \"\"\"\n",
    "        instance.id = validated_data.get('id', instance.id)\n",
    "        instance.name = validated_data.get('name', instance.name)\n",
    "        instance.country = validated_data.get('country', instance.country)\n",
    "        instance.alpha_2_iso_code = validated_data.get('alpha_2_iso_code', instance.alpha_2_iso_code)\n",
    "        instance.save()\n",
    "        return instance\n"
   ]
  },
  {
   "cell_type": "code",
   "execution_count": 81,
   "id": "90f75271",
   "metadata": {},
   "outputs": [
    {
     "data": {
      "text/plain": [
       "{'id': 473, 'name': 'New York', 'country': 3, 'alpha_2_iso_code': 'NY'}"
      ]
     },
     "execution_count": 81,
     "metadata": {},
     "output_type": "execute_result"
    }
   ],
   "source": [
    "data"
   ]
  },
  {
   "cell_type": "code",
   "execution_count": 82,
   "id": "2828e50c",
   "metadata": {},
   "outputs": [],
   "source": [
    "serializer = StateSerializer(data=data)"
   ]
  },
  {
   "cell_type": "code",
   "execution_count": 83,
   "id": "edf80837",
   "metadata": {},
   "outputs": [
    {
     "data": {
      "text/plain": [
       "True"
      ]
     },
     "execution_count": 83,
     "metadata": {},
     "output_type": "execute_result"
    }
   ],
   "source": [
    "serializer.is_valid()"
   ]
  },
  {
   "cell_type": "code",
   "execution_count": 84,
   "id": "d9f7a5de",
   "metadata": {},
   "outputs": [
    {
     "data": {
      "text/plain": [
       "OrderedDict([('name', 'New York'),\n",
       "             ('country', <Country: United States>),\n",
       "             ('alpha_2_iso_code', 'NY')])"
      ]
     },
     "execution_count": 84,
     "metadata": {},
     "output_type": "execute_result"
    }
   ],
   "source": [
    "serializer.validated_data"
   ]
  },
  {
   "cell_type": "code",
   "execution_count": 85,
   "id": "ec2cec52",
   "metadata": {},
   "outputs": [],
   "source": [
    "if serializer.is_valid():\n",
    "    serializer.validated_data\n",
    "    serializer.save()\n",
    "    "
   ]
  },
  {
   "cell_type": "code",
   "execution_count": 86,
   "id": "22f9bce9",
   "metadata": {},
   "outputs": [
    {
     "data": {
      "text/plain": [
       "{'id': 535, 'name': 'New York', 'country': 3, 'alpha_2_iso_code': 'NY'}"
      ]
     },
     "execution_count": 86,
     "metadata": {},
     "output_type": "execute_result"
    }
   ],
   "source": [
    "serializer.data"
   ]
  },
  {
   "cell_type": "code",
   "execution_count": 88,
   "id": "2dd5eb1c",
   "metadata": {},
   "outputs": [
    {
     "data": {
      "text/plain": [
       "<QuerySet [<State: New York>]>"
      ]
     },
     "execution_count": 88,
     "metadata": {},
     "output_type": "execute_result"
    }
   ],
   "source": [
    "State.objects.filter(id=535)"
   ]
  },
  {
   "cell_type": "markdown",
   "id": "d5b9c6ff",
   "metadata": {},
   "source": [
    "# Queries"
   ]
  },
  {
   "cell_type": "markdown",
   "id": "f4ef34b9",
   "metadata": {},
   "source": [
    "."
   ]
  },
  {
   "cell_type": "markdown",
   "id": "70850ae4",
   "metadata": {},
   "source": [
    "###### all() , filter() , exclude() , order_by( 'field' / '-field' / '?' ) , reverse() , values() , union(all=False) , union(all=True)"
   ]
  },
  {
   "cell_type": "markdown",
   "id": "85693444",
   "metadata": {},
   "source": [
    "."
   ]
  },
  {
   "cell_type": "code",
   "execution_count": 89,
   "id": "d0e28990",
   "metadata": {},
   "outputs": [],
   "source": [
    "from edly.core.models import *"
   ]
  },
  {
   "cell_type": "code",
   "execution_count": 104,
   "id": "591ba695",
   "metadata": {
    "scrolled": true
   },
   "outputs": [
    {
     "data": {
      "text/plain": [
       "<QuerySet [<State: New York>, <State: Puerto Rico>, <State: Virgin Islands>, <State: Massachusetts>, <State: Rhode Island>]>"
      ]
     },
     "execution_count": 104,
     "metadata": {},
     "output_type": "execute_result"
    }
   ],
   "source": [
    "# The all() method returns a QuerySet of all the objects in the database.\n",
    "State.objects.all()[:5]"
   ]
  },
  {
   "cell_type": "code",
   "execution_count": 96,
   "id": "ba51954a",
   "metadata": {},
   "outputs": [
    {
     "data": {
      "text/plain": [
       "<QuerySet [<State: New York>, <State: New York>, <State: New York>, <State: New York>]>"
      ]
     },
     "execution_count": 96,
     "metadata": {},
     "output_type": "execute_result"
    }
   ],
   "source": [
    "# Returns a new QuerySet containing objects that match the given lookup parameters.\n",
    "State.objects.filter(name='New York')"
   ]
  },
  {
   "cell_type": "code",
   "execution_count": 97,
   "id": "c8014695",
   "metadata": {},
   "outputs": [
    {
     "data": {
      "text/plain": [
       "<QuerySet [<State: New York>, <State: New Hampshire>, <State: New Jersey>, <State: New Mexico>, <State: New York>, <State: New York>, <State: New York>]>"
      ]
     },
     "execution_count": 97,
     "metadata": {},
     "output_type": "execute_result"
    }
   ],
   "source": [
    "# __startwith \n",
    "State.objects.filter(name__startswith=\"New\")"
   ]
  },
  {
   "cell_type": "code",
   "execution_count": 93,
   "id": "12f11f00",
   "metadata": {},
   "outputs": [
    {
     "data": {
      "text/plain": [
       "<QuerySet [<State: Puerto Rico>, <State: Virgin Islands>, <State: Massachusetts>, <State: Rhode Island>, <State: New Hampshire>, <State: Maine>, <State: Connecticut>, <State: New Jersey>, <State: Pennsylvania>, <State: Delaware>, <State: District of Columbia>, <State: Virginia>, <State: Maryland>, <State: North Carolina>, <State: South Carolina>, <State: Georgia>, <State: Florida>, <State: Alabama>, <State: Tennessee>, <State: Mississippi>, '...(remaining elements truncated)...']>"
      ]
     },
     "execution_count": 93,
     "metadata": {},
     "output_type": "execute_result"
    }
   ],
   "source": [
    "# Returns a new QuerySet containing objects that do not match the given lookup parameters.\n",
    "State.objects.exclude(name='New York')"
   ]
  },
  {
   "cell_type": "code",
   "execution_count": 181,
   "id": "79260882",
   "metadata": {},
   "outputs": [
    {
     "data": {
      "text/plain": [
       "<QuerySet [{'id': 535, 'slug': 'new-york-39nwy', 'name': 'India', 'country_id': 3, 'alpha_2_iso_code': 'NY'}, {'id': 534, 'slug': 'new-york-45cqn', 'name': 'New York', 'country_id': 3, 'alpha_2_iso_code': 'NY'}, {'id': 533, 'slug': 'new-york-83pbz', 'name': 'New York', 'country_id': 3, 'alpha_2_iso_code': 'NY'}, {'id': 532, 'slug': 'west-virginia', 'name': 'West Virginia', 'country_id': 3, 'alpha_2_iso_code': 'WV'}, {'id': 531, 'slug': 'alaska', 'name': 'Alaska', 'country_id': None, 'alpha_2_iso_code': 'AK'}]>"
      ]
     },
     "execution_count": 181,
     "metadata": {},
     "output_type": "execute_result"
    }
   ],
   "source": [
    "# values() return the obj keys nad value in form of dictionary whereas values_list(named=False) return tuple\n",
    "State.objects.order_by(\"id\").reverse()[:5].values()"
   ]
  },
  {
   "cell_type": "code",
   "execution_count": null,
   "id": "051ed44e",
   "metadata": {},
   "outputs": [],
   "source": [
    "# union() is used to combine two queries from diffrent database and return a single queryset with distinct values . Only applies when the number of column of both the query is same . \n",
    "# union(all=True) is to combine two queries from diffrent database and return a single queryset inculding duplicate values . \n",
    "qs2.union(qs1,all=True)\n",
    "# intersection : to return the shared values \n",
    "qs1.intersection(qs2,qs3,qs4)\n",
    "#difference : all except the shared values \n"
   ]
  },
  {
   "cell_type": "markdown",
   "id": "c3844aeb",
   "metadata": {},
   "source": [
    "."
   ]
  },
  {
   "cell_type": "markdown",
   "id": "9a552908",
   "metadata": {},
   "source": [
    "###### get() , __iexact , first() , last() , latest() , earliest() , exists() "
   ]
  },
  {
   "cell_type": "markdown",
   "id": "16f19b90",
   "metadata": {},
   "source": [
    "."
   ]
  },
  {
   "cell_type": "code",
   "execution_count": 121,
   "id": "d6285205",
   "metadata": {},
   "outputs": [
    {
     "data": {
      "text/plain": [
       "<State: New York>"
      ]
     },
     "execution_count": 121,
     "metadata": {},
     "output_type": "execute_result"
    }
   ],
   "source": [
    "State.objects.get(id=535)"
   ]
  },
  {
   "cell_type": "code",
   "execution_count": 122,
   "id": "17efb04b",
   "metadata": {},
   "outputs": [
    {
     "data": {
      "text/plain": [
       "<QuerySet [<State: New York>]>"
      ]
     },
     "execution_count": 122,
     "metadata": {},
     "output_type": "execute_result"
    }
   ],
   "source": [
    "# A case-insensitive match. \n",
    "State.objects.filter(name__iexact=\"nEw YoRk\" , id = 535 )"
   ]
  },
  {
   "cell_type": "code",
   "execution_count": 135,
   "id": "ce7c024d",
   "metadata": {},
   "outputs": [
    {
     "data": {
      "text/plain": [
       "<State: New York>"
      ]
     },
     "execution_count": 135,
     "metadata": {},
     "output_type": "execute_result"
    }
   ],
   "source": [
    "# first obj that match query . if the method has no oder_by field by default it is ordered by pk\n",
    "# State.objects.first()\n",
    "State.objects.order_by(\"country\").first()"
   ]
  },
  {
   "cell_type": "code",
   "execution_count": 136,
   "id": "ffb0a0e1",
   "metadata": {},
   "outputs": [
    {
     "data": {
      "text/plain": [
       "<State: Palau>"
      ]
     },
     "execution_count": 136,
     "metadata": {},
     "output_type": "execute_result"
    }
   ],
   "source": [
    "# Similar to first \n",
    "State.objects.order_by(\"country\").last()"
   ]
  },
  {
   "cell_type": "code",
   "execution_count": 139,
   "id": "84fc73d3",
   "metadata": {},
   "outputs": [
    {
     "data": {
      "text/plain": [
       "<State: Wyoming>"
      ]
     },
     "execution_count": 139,
     "metadata": {},
     "output_type": "execute_result"
    }
   ],
   "source": [
    "# returns latest obj of the table of given field\n",
    "State.objects.latest(\"name\")"
   ]
  },
  {
   "cell_type": "code",
   "execution_count": 141,
   "id": "567c27e0",
   "metadata": {},
   "outputs": [
    {
     "data": {
      "text/plain": [
       "<State: Alabama>"
      ]
     },
     "execution_count": 141,
     "metadata": {},
     "output_type": "execute_result"
    }
   ],
   "source": [
    "# returns earliest obj of the table of given field\n",
    "State.objects.earliest(\"name\")"
   ]
  },
  {
   "cell_type": "code",
   "execution_count": 145,
   "id": "bbeb74e6",
   "metadata": {},
   "outputs": [
    {
     "data": {
      "text/plain": [
       "True"
      ]
     },
     "execution_count": 145,
     "metadata": {},
     "output_type": "execute_result"
    }
   ],
   "source": [
    "State.objects.filter(name=\"New York\").exists()"
   ]
  },
  {
   "cell_type": "markdown",
   "id": "39d3a1c0",
   "metadata": {},
   "source": [
    "."
   ]
  },
  {
   "cell_type": "markdown",
   "id": "a0826fdd",
   "metadata": {},
   "source": [
    "###### create() , get_or_create() , update() , update_or_create() , bulk_create() , bulk_update() , in_bulk() , delete()"
   ]
  },
  {
   "cell_type": "markdown",
   "id": "0c760e8b",
   "metadata": {},
   "source": [
    "."
   ]
  },
  {
   "cell_type": "code",
   "execution_count": 222,
   "id": "ec16e6ed",
   "metadata": {},
   "outputs": [
    {
     "data": {
      "text/plain": [
       "False"
      ]
     },
     "execution_count": 222,
     "metadata": {},
     "output_type": "execute_result"
    }
   ],
   "source": [
    "# create obj and saving in one step \n",
    "\n",
    "# using save()\n",
    "dic= {\n",
    "    \"name\":\"India\", \n",
    "    \"country\":3,\n",
    "    \"alpha_2_iso_code\":\"IND\"\n",
    "}\n",
    "\n",
    "serializer = StateSerializer(data=dic)\n",
    "serializer.is_valid()\n",
    "if serializer.is_valid():\n",
    "    serializer.save()\n",
    "else:\n",
    "    print(\"Not Valid\")\n",
    "    \n",
    "    \n",
    "# using create()\n",
    "State.objects.create(name=\"India\",alpha_2_iso_code=\"IND\")"
   ]
  },
  {
   "cell_type": "code",
   "execution_count": 161,
   "id": "afe03d62",
   "metadata": {},
   "outputs": [
    {
     "data": {
      "text/plain": [
       "(<State: New York>, False)"
      ]
     },
     "execution_count": 161,
     "metadata": {},
     "output_type": "execute_result"
    }
   ],
   "source": [
    "# get_or_create() : it will get() the obj and created (can be true or false ) if already present....else will create the obj \n",
    "State.objects.get_or_create(id= 535, name= 'New York', country= 3, alpha_2_iso_code= 'NY')\n"
   ]
  },
  {
   "cell_type": "code",
   "execution_count": 167,
   "id": "9a1bf9e3",
   "metadata": {},
   "outputs": [
    {
     "data": {
      "text/plain": [
       "<State: India>"
      ]
     },
     "execution_count": 167,
     "metadata": {},
     "output_type": "execute_result"
    }
   ],
   "source": [
    "# update() : cannot use get() instead of filter as it applies only on a Queryset . \n",
    "State.objects.filter(id=535).update(name=\"India\")\n",
    "State.objects.get(id=535)"
   ]
  },
  {
   "cell_type": "code",
   "execution_count": 170,
   "id": "ddeb3865",
   "metadata": {},
   "outputs": [
    {
     "data": {
      "text/plain": [
       "False"
      ]
     },
     "execution_count": 170,
     "metadata": {},
     "output_type": "execute_result"
    }
   ],
   "source": [
    "# update_or_create() : if exist update else create the obj\n",
    "data, created = State.objects.update_or_create(id= 535, name= 'India', country= 3, alpha_2_iso_code= 'NY')\n",
    "created"
   ]
  },
  {
   "cell_type": "code",
   "execution_count": 174,
   "id": "0a8e1334",
   "metadata": {
    "collapsed": true
   },
   "outputs": [
    {
     "ename": "ValueError",
     "evalue": "Cannot assign \"3\": \"State.country\" must be a \"Country\" instance.",
     "output_type": "error",
     "traceback": [
      "\u001b[0;31m---------------------------------------------------------------------------\u001b[0m",
      "\u001b[0;31mValueError\u001b[0m                                Traceback (most recent call last)",
      "Input \u001b[0;32mIn [174]\u001b[0m, in \u001b[0;36m<cell line: 3>\u001b[0;34m()\u001b[0m\n\u001b[1;32m      1\u001b[0m \u001b[38;5;66;03m# bulk_create(objs,batch_size=None,ignore_conflicts=False) : insert the provided list in db . T&C applied :)\u001b[39;00m\n\u001b[1;32m      2\u001b[0m objs\u001b[38;5;241m=\u001b[39m[\n\u001b[0;32m----> 3\u001b[0m     \u001b[43mState\u001b[49m\u001b[43m(\u001b[49m\u001b[38;5;28;43mid\u001b[39;49m\u001b[38;5;241;43m=\u001b[39;49m\u001b[43m \u001b[49m\u001b[38;5;241;43m535\u001b[39;49m\u001b[43m,\u001b[49m\u001b[43m \u001b[49m\u001b[43mname\u001b[49m\u001b[38;5;241;43m=\u001b[39;49m\u001b[43m \u001b[49m\u001b[38;5;124;43m'\u001b[39;49m\u001b[38;5;124;43mNew York\u001b[39;49m\u001b[38;5;124;43m'\u001b[39;49m\u001b[43m,\u001b[49m\u001b[43m \u001b[49m\u001b[43mcountry\u001b[49m\u001b[38;5;241;43m=\u001b[39;49m\u001b[43m \u001b[49m\u001b[38;5;241;43m3\u001b[39;49m\u001b[43m,\u001b[49m\u001b[43m \u001b[49m\u001b[43malpha_2_iso_code\u001b[49m\u001b[38;5;241;43m=\u001b[39;49m\u001b[43m \u001b[49m\u001b[38;5;124;43m'\u001b[39;49m\u001b[38;5;124;43mNY\u001b[39;49m\u001b[38;5;124;43m'\u001b[39;49m\u001b[43m)\u001b[49m,\n\u001b[1;32m      4\u001b[0m     State(\u001b[38;5;28mid\u001b[39m\u001b[38;5;241m=\u001b[39m \u001b[38;5;241m536\u001b[39m, name\u001b[38;5;241m=\u001b[39m \u001b[38;5;124m'\u001b[39m\u001b[38;5;124mNew York\u001b[39m\u001b[38;5;124m'\u001b[39m, country\u001b[38;5;241m=\u001b[39m \u001b[38;5;241m3\u001b[39m, alpha_2_iso_code\u001b[38;5;241m=\u001b[39m \u001b[38;5;124m'\u001b[39m\u001b[38;5;124mNY\u001b[39m\u001b[38;5;124m'\u001b[39m),\n\u001b[1;32m      5\u001b[0m     State(\u001b[38;5;28mid\u001b[39m\u001b[38;5;241m=\u001b[39m \u001b[38;5;241m537\u001b[39m, name\u001b[38;5;241m=\u001b[39m \u001b[38;5;124m'\u001b[39m\u001b[38;5;124mNew York\u001b[39m\u001b[38;5;124m'\u001b[39m, country\u001b[38;5;241m=\u001b[39m \u001b[38;5;241m3\u001b[39m, alpha_2_iso_code\u001b[38;5;241m=\u001b[39m \u001b[38;5;124m'\u001b[39m\u001b[38;5;124mNY\u001b[39m\u001b[38;5;124m'\u001b[39m),\n\u001b[1;32m      6\u001b[0m ]\n\u001b[1;32m      7\u001b[0m State\u001b[38;5;241m.\u001b[39mobjects\u001b[38;5;241m.\u001b[39mbulk_create(objs)\n\u001b[1;32m      9\u001b[0m \u001b[38;5;66;03m# bulk_update() : update the provided list in db \u001b[39;00m\n",
      "File \u001b[0;32m~/Envs/student/lib/python3.9/site-packages/django/db/models/base.py:483\u001b[0m, in \u001b[0;36mModel.__init__\u001b[0;34m(self, *args, **kwargs)\u001b[0m\n\u001b[1;32m    477\u001b[0m \u001b[38;5;28;01mif\u001b[39;00m is_related_object:\n\u001b[1;32m    478\u001b[0m     \u001b[38;5;66;03m# If we are passed a related instance, set it using the\u001b[39;00m\n\u001b[1;32m    479\u001b[0m     \u001b[38;5;66;03m# field.name instead of field.attname (e.g. \"user\" instead of\u001b[39;00m\n\u001b[1;32m    480\u001b[0m     \u001b[38;5;66;03m# \"user_id\") so that the object gets properly cached (and type\u001b[39;00m\n\u001b[1;32m    481\u001b[0m     \u001b[38;5;66;03m# checked) by the RelatedObjectDescriptor.\u001b[39;00m\n\u001b[1;32m    482\u001b[0m     \u001b[38;5;28;01mif\u001b[39;00m rel_obj \u001b[38;5;129;01mis\u001b[39;00m \u001b[38;5;129;01mnot\u001b[39;00m _DEFERRED:\n\u001b[0;32m--> 483\u001b[0m         \u001b[43m_setattr\u001b[49m\u001b[43m(\u001b[49m\u001b[38;5;28;43mself\u001b[39;49m\u001b[43m,\u001b[49m\u001b[43m \u001b[49m\u001b[43mfield\u001b[49m\u001b[38;5;241;43m.\u001b[39;49m\u001b[43mname\u001b[49m\u001b[43m,\u001b[49m\u001b[43m \u001b[49m\u001b[43mrel_obj\u001b[49m\u001b[43m)\u001b[49m\n\u001b[1;32m    484\u001b[0m \u001b[38;5;28;01melse\u001b[39;00m:\n\u001b[1;32m    485\u001b[0m     \u001b[38;5;28;01mif\u001b[39;00m val \u001b[38;5;129;01mis\u001b[39;00m \u001b[38;5;129;01mnot\u001b[39;00m _DEFERRED:\n",
      "File \u001b[0;32m~/Envs/student/lib/python3.9/site-packages/django/db/models/fields/related_descriptors.py:215\u001b[0m, in \u001b[0;36mForwardManyToOneDescriptor.__set__\u001b[0;34m(self, instance, value)\u001b[0m\n\u001b[1;32m    213\u001b[0m \u001b[38;5;66;03m# An object must be an instance of the related class.\u001b[39;00m\n\u001b[1;32m    214\u001b[0m \u001b[38;5;28;01mif\u001b[39;00m value \u001b[38;5;129;01mis\u001b[39;00m \u001b[38;5;129;01mnot\u001b[39;00m \u001b[38;5;28;01mNone\u001b[39;00m \u001b[38;5;129;01mand\u001b[39;00m \u001b[38;5;129;01mnot\u001b[39;00m \u001b[38;5;28misinstance\u001b[39m(value, \u001b[38;5;28mself\u001b[39m\u001b[38;5;241m.\u001b[39mfield\u001b[38;5;241m.\u001b[39mremote_field\u001b[38;5;241m.\u001b[39mmodel\u001b[38;5;241m.\u001b[39m_meta\u001b[38;5;241m.\u001b[39mconcrete_model):\n\u001b[0;32m--> 215\u001b[0m     \u001b[38;5;28;01mraise\u001b[39;00m \u001b[38;5;167;01mValueError\u001b[39;00m(\n\u001b[1;32m    216\u001b[0m         \u001b[38;5;124m'\u001b[39m\u001b[38;5;124mCannot assign \u001b[39m\u001b[38;5;124m\"\u001b[39m\u001b[38;5;132;01m%r\u001b[39;00m\u001b[38;5;124m\"\u001b[39m\u001b[38;5;124m: \u001b[39m\u001b[38;5;124m\"\u001b[39m\u001b[38;5;132;01m%s\u001b[39;00m\u001b[38;5;124m.\u001b[39m\u001b[38;5;132;01m%s\u001b[39;00m\u001b[38;5;124m\"\u001b[39m\u001b[38;5;124m must be a \u001b[39m\u001b[38;5;124m\"\u001b[39m\u001b[38;5;132;01m%s\u001b[39;00m\u001b[38;5;124m\"\u001b[39m\u001b[38;5;124m instance.\u001b[39m\u001b[38;5;124m'\u001b[39m \u001b[38;5;241m%\u001b[39m (\n\u001b[1;32m    217\u001b[0m             value,\n\u001b[1;32m    218\u001b[0m             instance\u001b[38;5;241m.\u001b[39m_meta\u001b[38;5;241m.\u001b[39mobject_name,\n\u001b[1;32m    219\u001b[0m             \u001b[38;5;28mself\u001b[39m\u001b[38;5;241m.\u001b[39mfield\u001b[38;5;241m.\u001b[39mname,\n\u001b[1;32m    220\u001b[0m             \u001b[38;5;28mself\u001b[39m\u001b[38;5;241m.\u001b[39mfield\u001b[38;5;241m.\u001b[39mremote_field\u001b[38;5;241m.\u001b[39mmodel\u001b[38;5;241m.\u001b[39m_meta\u001b[38;5;241m.\u001b[39mobject_name,\n\u001b[1;32m    221\u001b[0m         )\n\u001b[1;32m    222\u001b[0m     )\n\u001b[1;32m    223\u001b[0m \u001b[38;5;28;01melif\u001b[39;00m value \u001b[38;5;129;01mis\u001b[39;00m \u001b[38;5;129;01mnot\u001b[39;00m \u001b[38;5;28;01mNone\u001b[39;00m:\n\u001b[1;32m    224\u001b[0m     \u001b[38;5;28;01mif\u001b[39;00m instance\u001b[38;5;241m.\u001b[39m_state\u001b[38;5;241m.\u001b[39mdb \u001b[38;5;129;01mis\u001b[39;00m \u001b[38;5;28;01mNone\u001b[39;00m:\n",
      "\u001b[0;31mValueError\u001b[0m: Cannot assign \"3\": \"State.country\" must be a \"Country\" instance."
     ]
    }
   ],
   "source": [
    "# bulk_create(objs,batch_size=None,ignore_conflicts=False) : insert the provided list in db . T&C applied :)\n",
    "objs=[\n",
    "    State(id= 535, name= 'New York', country= 3, alpha_2_iso_code= 'NY'),\n",
    "    State(id= 536, name= 'New York', country= 3, alpha_2_iso_code= 'NY'),\n",
    "    State(id= 537, name= 'New York', country= 3, alpha_2_iso_code= 'NY'),\n",
    "]\n",
    "State.objects.bulk_create(objs)\n",
    "\n",
    "# bulk_update() : update the provided list in db \n",
    "State.objects.bulk_update(objs)"
   ]
  },
  {
   "cell_type": "code",
   "execution_count": 176,
   "id": "d842732a",
   "metadata": {},
   "outputs": [
    {
     "data": {
      "text/plain": [
       "{473: <State: New York>, 535: <State: India>}"
      ]
     },
     "execution_count": 176,
     "metadata": {},
     "output_type": "execute_result"
    }
   ],
   "source": [
    "# in_bulk : retrive objs in bulk \n",
    "State.objects.in_bulk([535,473])"
   ]
  },
  {
   "cell_type": "markdown",
   "id": "7b5c52bb",
   "metadata": {},
   "source": [
    "."
   ]
  },
  {
   "cell_type": "markdown",
   "id": "84e22987",
   "metadata": {},
   "source": [
    "###### Q objects"
   ]
  },
  {
   "cell_type": "code",
   "execution_count": 197,
   "id": "375221f0",
   "metadata": {},
   "outputs": [],
   "source": [
    "# Q objs are the objs used to encapsulate a collection of keyword arguments . These keywords as specified as in \"Field Lookups\"\n"
   ]
  },
  {
   "cell_type": "markdown",
   "id": "d36bca32",
   "metadata": {},
   "source": [
    "###### OR / AND / NOT "
   ]
  },
  {
   "cell_type": "markdown",
   "id": "95bbd584",
   "metadata": {},
   "source": [
    "."
   ]
  },
  {
   "cell_type": "code",
   "execution_count": 190,
   "id": "bb7465ea",
   "metadata": {},
   "outputs": [
    {
     "data": {
      "text/plain": [
       "<QuerySet [<State: New York>, <State: New York>, <State: New York>, <State: India>]>"
      ]
     },
     "execution_count": 190,
     "metadata": {},
     "output_type": "execute_result"
    }
   ],
   "source": [
    "# OR : Query would return even if ant one Query is True\n",
    "State.objects.filter(id=535)|State.objects.filter(name=\"New York\")\n",
    "State.objects.filter(Q(id=535)|Q(name=\"New York\"))"
   ]
  },
  {
   "cell_type": "code",
   "execution_count": 186,
   "id": "fcfbb185",
   "metadata": {},
   "outputs": [
    {
     "data": {
      "text/plain": [
       "<QuerySet [<State: India>]>"
      ]
     },
     "execution_count": 186,
     "metadata": {},
     "output_type": "execute_result"
    }
   ],
   "source": [
    "# AND : Query would return only when both Query is True\n",
    "State.objects.filter(id=535)&State.objects.filter(name=\"India\")\n",
    "State.objects.filter(id=535,name=\"India\")\n",
    "State.objects.filter(Q(id=535)&Q(name=\"India\"))"
   ]
  },
  {
   "cell_type": "code",
   "execution_count": 196,
   "id": "c57b3a21",
   "metadata": {},
   "outputs": [
    {
     "data": {
      "text/plain": [
       "<QuerySet [<State: Puerto Rico>, <State: Virgin Islands>, <State: Massachusetts>, <State: Rhode Island>, <State: New Hampshire>, <State: Maine>, <State: Connecticut>, <State: New Jersey>, <State: Pennsylvania>, <State: Delaware>, <State: District of Columbia>, <State: Virginia>, <State: Maryland>, <State: North Carolina>, <State: South Carolina>, <State: Georgia>, <State: Florida>, <State: Alabama>, <State: Tennessee>, <State: Mississippi>, '...(remaining elements truncated)...']>"
      ]
     },
     "execution_count": 196,
     "metadata": {},
     "output_type": "execute_result"
    }
   ],
   "source": [
    "# NOT : anti \n",
    "State.objects.filter(~Q(name=\"New York\"))\n"
   ]
  },
  {
   "cell_type": "markdown",
   "id": "bee51a1e",
   "metadata": {},
   "source": [
    "."
   ]
  },
  {
   "cell_type": "markdown",
   "id": "c5997970",
   "metadata": {},
   "source": [
    " ###### F expressions"
   ]
  },
  {
   "cell_type": "markdown",
   "id": "86a20704",
   "metadata": {},
   "source": [
    "."
   ]
  },
  {
   "cell_type": "code",
   "execution_count": null,
   "id": "17ca68eb",
   "metadata": {},
   "outputs": [],
   "source": [
    "# we gernally compare the value of a model field with a constant  but F expressions are used to compare the value of a model field with another field on the same model .\n",
    "\n",
    "from django.db.models import F\n",
    "\n",
    "# Entry.objects.filter(number_of_comments__gt=F('number_of_pingbacks'))\n",
    "# here the number_of_comments (value of model Field )that are greater the number_of_pingbacks (value of model Field ) are getting filtered .\n",
    "\n"
   ]
  },
  {
   "cell_type": "markdown",
   "id": "d5253454",
   "metadata": {},
   "source": [
    "."
   ]
  },
  {
   "cell_type": "markdown",
   "id": "3efd06fa",
   "metadata": {},
   "source": [
    "###### annotate() , aggregate(Avg/Sum/Min/Max/Count)"
   ]
  },
  {
   "cell_type": "markdown",
   "id": "ba54cce4",
   "metadata": {},
   "source": [
    "."
   ]
  },
  {
   "cell_type": "code",
   "execution_count": 203,
   "id": "752938a0",
   "metadata": {},
   "outputs": [
    {
     "data": {
      "text/plain": [
       "{'country__avg': 3.0}"
      ]
     },
     "execution_count": 203,
     "metadata": {},
     "output_type": "execute_result"
    }
   ],
   "source": [
    "State.objects.aggregate(Avg(\"country\"))\n",
    "#State.objects.aggregate(Sum(\"country\"))\n",
    "#State.objects.aggregate(Min(\"country\"))\n",
    "#State.objects.aggregate(Max(\"country\"))\n",
    "#State.objects.aggregate(Count(\"country\"))\n",
    "\n",
    "\n",
    "\n"
   ]
  },
  {
   "cell_type": "code",
   "execution_count": 215,
   "id": "aefcd510",
   "metadata": {},
   "outputs": [],
   "source": [
    "# annotate is used to dynamically generate additional data for each object when the data is being extracted.\n",
    "annotated_data=State.objects.annotate(new_id=F(\"id\")*10)"
   ]
  },
  {
   "cell_type": "code",
   "execution_count": 221,
   "id": "2bda6145",
   "metadata": {},
   "outputs": [
    {
     "data": {
      "text/plain": [
       "<QuerySet [{'new_id': 4730}, {'new_id': 4740}, {'new_id': 4750}, {'new_id': 4760}, {'new_id': 4770}, {'new_id': 4780}, {'new_id': 4790}, {'new_id': 4810}, {'new_id': 4820}, {'new_id': 4830}, {'new_id': 4840}, {'new_id': 4850}, {'new_id': 4860}, {'new_id': 4870}, {'new_id': 4890}, {'new_id': 4900}, {'new_id': 4910}, {'new_id': 4920}, {'new_id': 4930}, {'new_id': 4940}, '...(remaining elements truncated)...']>"
      ]
     },
     "execution_count": 221,
     "metadata": {},
     "output_type": "execute_result"
    }
   ],
   "source": [
    "annotated_data.values(\"new_id\")"
   ]
  },
  {
   "cell_type": "code",
   "execution_count": null,
   "id": "07058572",
   "metadata": {},
   "outputs": [],
   "source": []
  }
 ],
 "metadata": {
  "kernelspec": {
   "display_name": "Django Shell-Plus",
   "language": "python",
   "name": "django_extensions"
  },
  "language_info": {
   "codemirror_mode": {
    "name": "ipython",
    "version": 3
   },
   "file_extension": ".py",
   "mimetype": "text/x-python",
   "name": "python",
   "nbconvert_exporter": "python",
   "pygments_lexer": "ipython3",
   "version": "3.9.13"
  }
 },
 "nbformat": 4,
 "nbformat_minor": 5
}
